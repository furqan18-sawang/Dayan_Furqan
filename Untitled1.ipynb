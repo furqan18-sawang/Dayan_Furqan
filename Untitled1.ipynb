{
  "nbformat": 4,
  "nbformat_minor": 0,
  "metadata": {
    "colab": {
      "name": "Untitled1.ipynb",
      "provenance": [],
      "authorship_tag": "ABX9TyORGSB8vMSeQKSZv3VrEVjq",
      "include_colab_link": true
    },
    "kernelspec": {
      "name": "python3",
      "display_name": "Python 3"
    },
    "language_info": {
      "name": "python"
    }
  },
  "cells": [
    {
      "cell_type": "markdown",
      "metadata": {
        "id": "view-in-github",
        "colab_type": "text"
      },
      "source": [
        "<a href=\"https://colab.research.google.com/github/furqan18-sawang/Dayan_Furqan/blob/main/Untitled1.ipynb\" target=\"_parent\"><img src=\"https://colab.research.google.com/assets/colab-badge.svg\" alt=\"Open In Colab\"/></a>"
      ]
    },
    {
      "cell_type": "code",
      "metadata": {
        "colab": {
          "base_uri": "https://localhost:8080/"
        },
        "id": "QT0ZBWvqYP07",
        "outputId": "6331b949-5bbd-4a0c-b9bb-04e0fa27b898"
      },
      "source": [
        "#  program lingkaran\n",
        "\n",
        "r = int (input (\"Masukkan untuk mencari nilai jari-jari  \"))\n",
        "\n",
        "phi = 22/7\n",
        "luas = phi*r*r\n",
        "\n",
        "print (\"Hasil dari Luas Lingkaran  :\", luas)"
      ],
      "execution_count": null,
      "outputs": [
        {
          "output_type": "stream",
          "name": "stdout",
          "text": [
            "Masukkan untuk mencari nilai jari-jari  44\n",
            "Hasil dari Luas Lingkaran  : 6084.571428571428\n"
          ]
        }
      ]
    },
    {
      "cell_type": "code",
      "metadata": {
        "id": "i9z0g0bpYyny"
      },
      "source": [
        ""
      ],
      "execution_count": null,
      "outputs": []
    }
  ]
}